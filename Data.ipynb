{
 "cells": [
  {
   "cell_type": "markdown",
   "metadata": {
    "collapsed": true
   },
   "source": [
    "# IBM Data Science Certification Capstone Project¶\n"
   ]
  },
  {
   "cell_type": "markdown",
   "metadata": {},
   "source": [
    "## Data"
   ]
  },
  {
   "cell_type": "markdown",
   "metadata": {},
   "source": [
    "### The required data to solve the business problem will be comprised of:\n",
    "\n",
    "### a) Socioeconomic indicators (age, per capita income, unemployment) from the neighborhoods of Chicago. The dataset was used for a previous assignment in the certification and is provided by the City of Chicago. This information will give an insight about the location's social and economical  receptiveness towards the new restaurant. Queries should be performed to find the locations with the highest income and population. Regarding the age factor, a place with a high younger population may also be preferred to enter the market more easily, as well as for creating loyal clients.\n",
    "\n",
    "### b) Geo-spacial information from Foursquare, which will indicate the position of current restaurants in the area as well as the type of food they sell. By mapping these locations, positions can be suggested for the new business where there currently are not much restaurants. The neighborhoods with a high number of restaurants, for instance, should be avoided. A place with a medium number of business could be considered."
   ]
  },
  {
   "cell_type": "code",
   "execution_count": null,
   "metadata": {},
   "outputs": [],
   "source": []
  }
 ],
 "metadata": {
  "kernelspec": {
   "display_name": "Python 3.6",
   "language": "python",
   "name": "python3"
  },
  "language_info": {
   "codemirror_mode": {
    "name": "ipython",
    "version": 3
   },
   "file_extension": ".py",
   "mimetype": "text/x-python",
   "name": "python",
   "nbconvert_exporter": "python",
   "pygments_lexer": "ipython3",
   "version": "3.6.8"
  }
 },
 "nbformat": 4,
 "nbformat_minor": 1
}
