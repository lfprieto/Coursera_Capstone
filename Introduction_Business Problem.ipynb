{
 "cells": [
  {
   "cell_type": "markdown",
   "metadata": {
    "collapsed": true
   },
   "source": [
    "# IBM Data Science Certification Capstone Project\n"
   ]
  },
  {
   "cell_type": "markdown",
   "metadata": {},
   "source": [
    "## Introduction/Business Problem"
   ]
  },
  {
   "cell_type": "markdown",
   "metadata": {},
   "source": [
    "###  _Description of the problem_"
   ]
  },
  {
   "cell_type": "markdown",
   "metadata": {},
   "source": [
    "#### Main problem: Where should a restaurant be opened in the city of Chicago considering socioeconomic indicators and the current existing dining options?"
   ]
  },
  {
   "cell_type": "markdown",
   "metadata": {},
   "source": [
    "#### Let's suppose that an investor plans to open a new restaurant in the city of Chicago, for which he seeks advice from a data scientist. The investor is not from Chicago and hence is not well acquainted with the area, with only a vague idea of where he could locate his new business. Additionaly, he isn't quite sure about what kind of food he should sell. As a data scientist, several aspects must be considered in order to recommend the best locations within the Chicago area and the type of cuisine as a suggestion as well."
   ]
  },
  {
   "cell_type": "markdown",
   "metadata": {},
   "source": [
    "###  _Background_"
   ]
  },
  {
   "cell_type": "code",
   "execution_count": null,
   "metadata": {},
   "outputs": [],
   "source": []
  },
  {
   "cell_type": "markdown",
   "metadata": {},
   "source": [
    "#### The main factors that need to be assessed in order to pinpoint the best possible restaurant locations are the following:\n",
    "        \n",
    "*Location's per capita income: The economic status of the Chicago neighborhoods can be evaluated to determine whether a zone is good or not to recieve a new business. An area with a low per capita income is less probable to represent a good market opportunity. Alternatively, neighborhoods where people have higher incomes are likely to offer a reliable business scenario. \n",
    "\n",
    "*Location's population: A zone with high population or density indicators might favor the exposure of the business to the public, increasing the probability of attracting new clients. \n",
    "\n",
    "*Competition among existing restaurants: The number of restaurants in an existing area should be determined to find if there is a high level of rivalry in the area. Choosing a place that doesn't have much competition will increase the business success probability.\n",
    "\n",
    "*Type of existing restaurants: Related to the previous point, the kind of food sold at existing restaurant should be considered to determine what type of food should be sold in the new restaurant, avoiding unnecesary competition.\n",
    "\n",
    "*Other social indicators: Factors such as age and unemploymet could also give an insight regarding the neighborhood's feasibility for the business."
   ]
  },
  {
   "cell_type": "code",
   "execution_count": null,
   "metadata": {},
   "outputs": [],
   "source": []
  }
 ],
 "metadata": {
  "kernelspec": {
   "display_name": "Python 3.6",
   "language": "python",
   "name": "python3"
  },
  "language_info": {
   "codemirror_mode": {
    "name": "ipython",
    "version": 3
   },
   "file_extension": ".py",
   "mimetype": "text/x-python",
   "name": "python",
   "nbconvert_exporter": "python",
   "pygments_lexer": "ipython3",
   "version": "3.6.8"
  }
 },
 "nbformat": 4,
 "nbformat_minor": 1
}
